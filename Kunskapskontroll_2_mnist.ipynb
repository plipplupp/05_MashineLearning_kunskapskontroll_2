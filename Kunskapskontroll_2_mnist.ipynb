{
 "cells": [
  {
   "cell_type": "code",
   "execution_count": 23,
   "metadata": {},
   "outputs": [],
   "source": [
    "import numpy as np\n",
    "import matplotlib.pyplot as plt\n",
    "import joblib\n",
    "\n",
    "from sklearn.datasets import fetch_openml\n",
    "from sklearn.model_selection import train_test_split, GridSearchCV, RandomizedSearchCV\n",
    "from sklearn.ensemble import RandomForestClassifier, ExtraTreesClassifier, VotingClassifier \n",
    "from xgboost import XGBClassifier\n",
    "from sklearn.preprocessing import StandardScaler\n",
    "from sklearn.ensemble import VotingClassifier\n",
    "from sklearn.metrics import confusion_matrix, classification_report, ConfusionMatrixDisplay\n",
    "from scipy.stats import randint\n",
    "\n",
    "np.random.seed(42)"
   ]
  },
  {
   "cell_type": "markdown",
   "metadata": {},
   "source": [
    "# Data"
   ]
  },
  {
   "cell_type": "code",
   "execution_count": 5,
   "metadata": {},
   "outputs": [],
   "source": [
    "mnist = fetch_openml('mnist_784', version=1, cache=True, as_frame=False)\n",
    "# print(mnist.DESCR)\n",
    "\n",
    "X = mnist[\"data\"]\n",
    "y = mnist[\"target\"].astype(np.uint8)\n"
   ]
  },
  {
   "cell_type": "code",
   "execution_count": null,
   "metadata": {},
   "outputs": [],
   "source": [
    "# Dela upp datan\n",
    "X_train, X_test, y_train, y_test = train_test_split(X, y, test_size=10000, random_state=42)\n",
    "\n",
    "# Skapa och träna StandardScaler på träningsdatan\n",
    "scaler = StandardScaler()\n",
    "X_train = scaler.fit_transform(X_train)\n",
    "\n",
    "# Skala testdatan med samma StandardScaler-objekt\n",
    "X_test = scaler.transform(X_test)"
   ]
  },
  {
   "cell_type": "markdown",
   "metadata": {},
   "source": [
    "# Modelling"
   ]
  },
  {
   "cell_type": "code",
   "execution_count": 14,
   "metadata": {},
   "outputs": [
    {
     "name": "stdout",
     "output_type": "stream",
     "text": [
      "Fitting 3 folds for each of 8 candidates, totalling 24 fits\n",
      "Bästa score: 0.9643200487724316\n"
     ]
    }
   ],
   "source": [
    "rf = RandomForestClassifier(random_state=42)\n",
    "\n",
    "param_grid_rf = {\n",
    "    'n_estimators': [50, 100],\n",
    "    'max_depth': [10, 20],\n",
    "    'min_samples_split': [2, 5]\n",
    "}\n",
    "\n",
    "grid_search_rf = GridSearchCV(rf, param_grid_rf, cv=3, n_jobs=-1, verbose=1)\n",
    "grid_search_rf.fit(X_train, y_train)\n",
    "\n",
    "best_rf = grid_search_rf.best_estimator_\n",
    "\n",
    "best_score = grid_search_rf.best_score_\n",
    "print(f\"Bästa score: {best_score}\")"
   ]
  },
  {
   "cell_type": "code",
   "execution_count": 13,
   "metadata": {},
   "outputs": [
    {
     "name": "stdout",
     "output_type": "stream",
     "text": [
      "Bästa score: 0.9638000459719595\n"
     ]
    }
   ],
   "source": [
    "# Definiera parameterutrymme\n",
    "param_dist = {\n",
    "    'n_estimators': randint(50, 200),\n",
    "    'max_depth': randint(5, 20),\n",
    "    'min_samples_split': randint(2, 10)\n",
    "}\n",
    "\n",
    "# Skapa modell\n",
    "rf = RandomForestClassifier(random_state=42)\n",
    "\n",
    "# Skapa RandomizedSearchCV\n",
    "random_search = RandomizedSearchCV(rf, param_distributions=param_dist, n_iter=50, cv=3, random_state=42, n_jobs=-1)\n",
    "\n",
    "# Träna modellen\n",
    "random_search.fit(X_train, y_train)\n",
    "\n",
    "# Hämta bästa estimator\n",
    "best_rf = random_search.best_estimator_\n",
    "\n",
    "# Hämta bästa score\n",
    "best_score = random_search.best_score_\n",
    "\n",
    "# Printa ut bästa score\n",
    "print(f\"Bästa score: {best_score}\")"
   ]
  },
  {
   "cell_type": "code",
   "execution_count": 17,
   "metadata": {},
   "outputs": [
    {
     "name": "stdout",
     "output_type": "stream",
     "text": [
      "Fitting 3 folds for each of 8 candidates, totalling 24 fits\n",
      "Bästa score: 0.9660800507738795\n"
     ]
    }
   ],
   "source": [
    "et = ExtraTreesClassifier(random_state=42)\n",
    "\n",
    "param_grid_et = {\n",
    "    'n_estimators': [50, 100],\n",
    "    'max_depth': [10, 20],\n",
    "    'min_samples_split': [2, 5]\n",
    "}\n",
    "\n",
    "grid_search_et = GridSearchCV(et, param_grid_et, cv=3, n_jobs=-1, verbose=1)\n",
    "grid_search_et.fit(X_train, y_train)\n",
    "\n",
    "best_et = grid_search_et.best_estimator_\n",
    "\n",
    "best_score = grid_search_et.best_score_\n",
    "print(f\"Bästa score: {best_score}\")"
   ]
  },
  {
   "cell_type": "code",
   "execution_count": 18,
   "metadata": {},
   "outputs": [
    {
     "name": "stdout",
     "output_type": "stream",
     "text": [
      "Fitting 3 folds for each of 8 candidates, totalling 24 fits\n"
     ]
    },
    {
     "name": "stderr",
     "output_type": "stream",
     "text": [
      "c:\\Users\\Dator\\anaconda3\\Lib\\site-packages\\xgboost\\core.py:158: UserWarning: [21:13:23] WARNING: D:\\bld\\xgboost-split_1737531313485\\work\\src\\learner.cc:740: \n",
      "Parameters: { \"use_label_encoder\" } are not used.\n",
      "\n",
      "  warnings.warn(smsg, UserWarning)\n"
     ]
    },
    {
     "name": "stdout",
     "output_type": "stream",
     "text": [
      "Bästa score: 0.9643000455723515\n"
     ]
    }
   ],
   "source": [
    "xgb = XGBClassifier(random_state=42, use_label_encoder=False, eval_metric='mlogloss')\n",
    "\n",
    "param_grid_xgb = {\n",
    "    'n_estimators': [50, 100],\n",
    "    'max_depth': [3, 6],\n",
    "    'learning_rate': [0.01, 0.1]\n",
    "}\n",
    "\n",
    "grid_search_xgb = GridSearchCV(xgb, param_grid_xgb, cv=3, n_jobs=-1, verbose=1)\n",
    "grid_search_xgb.fit(X_train, y_train)\n",
    "\n",
    "best_xgb = grid_search_xgb.best_estimator_\n",
    "\n",
    "best_score = grid_search_xgb.best_score_\n",
    "print(f\"Bästa score: {best_score}\")"
   ]
  },
  {
   "cell_type": "code",
   "execution_count": 19,
   "metadata": {},
   "outputs": [
    {
     "name": "stderr",
     "output_type": "stream",
     "text": [
      "c:\\Users\\Dator\\anaconda3\\Lib\\site-packages\\xgboost\\core.py:158: UserWarning: [21:39:47] WARNING: D:\\bld\\xgboost-split_1737531313485\\work\\src\\learner.cc:740: \n",
      "Parameters: { \"use_label_encoder\" } are not used.\n",
      "\n",
      "  warnings.warn(smsg, UserWarning)\n"
     ]
    },
    {
     "name": "stdout",
     "output_type": "stream",
     "text": [
      "Voting Classifier Results:\n",
      "              precision    recall  f1-score   support\n",
      "\n",
      "           0       0.99      0.99      0.99       983\n",
      "           1       0.98      0.99      0.98      1152\n",
      "           2       0.96      0.98      0.97       967\n",
      "           3       0.97      0.96      0.96      1034\n",
      "           4       0.97      0.97      0.97       906\n",
      "           5       0.98      0.97      0.97       937\n",
      "           6       0.98      0.98      0.98       961\n",
      "           7       0.97      0.97      0.97      1055\n",
      "           8       0.96      0.95      0.96       969\n",
      "           9       0.96      0.95      0.95      1036\n",
      "\n",
      "    accuracy                           0.97     10000\n",
      "   macro avg       0.97      0.97      0.97     10000\n",
      "weighted avg       0.97      0.97      0.97     10000\n",
      "\n",
      "[[ 969    0    2    0    1    1    2    1    6    1]\n",
      " [   0 1136    5    5    1    0    0    2    2    1]\n",
      " [   1    2  945    1    3    0    3    5    6    1]\n",
      " [   1    0   16  988    0    4    1    7    7   10]\n",
      " [   2    0    2    0  875    1    3    2    2   19]\n",
      " [   0    1    2   11    1  908    6    1    6    1]\n",
      " [   3    1    0    0    3    6  944    0    4    0]\n",
      " [   0    5   11    0    4    0    0 1026    2    7]\n",
      " [   1    6    5   10    2    5    4    5  925    6]\n",
      " [   5    5    0    8   13    2    1   10    7  985]]\n"
     ]
    }
   ],
   "source": [
    "voting_clf = VotingClassifier(estimators=[\n",
    "    ('rf', best_rf),\n",
    "    ('et', best_et),\n",
    "    ('xgb', best_xgb)\n",
    "], voting='soft')\n",
    "\n",
    "voting_clf.fit(X_train, y_train)\n",
    "y_pred_voting = voting_clf.predict(X_test)\n",
    "\n",
    "print(\"Voting Classifier Results:\")\n",
    "print(classification_report(y_test, y_pred_voting))\n",
    "print(confusion_matrix(y_test, y_pred_voting))"
   ]
  },
  {
   "cell_type": "code",
   "execution_count": 22,
   "metadata": {},
   "outputs": [
    {
     "name": "stdout",
     "output_type": "stream",
     "text": [
      "Final Voting Classifier Results:\n",
      "              precision    recall  f1-score   support\n",
      "\n",
      "           0       0.99      0.99      0.99       983\n",
      "           1       0.98      0.99      0.98      1152\n",
      "           2       0.96      0.98      0.97       967\n",
      "           3       0.97      0.96      0.96      1034\n",
      "           4       0.97      0.97      0.97       906\n",
      "           5       0.98      0.97      0.97       937\n",
      "           6       0.98      0.98      0.98       961\n",
      "           7       0.97      0.97      0.97      1055\n",
      "           8       0.96      0.95      0.96       969\n",
      "           9       0.96      0.95      0.95      1036\n",
      "\n",
      "    accuracy                           0.97     10000\n",
      "   macro avg       0.97      0.97      0.97     10000\n",
      "weighted avg       0.97      0.97      0.97     10000\n",
      "\n",
      "[[ 969    0    2    0    1    1    2    1    6    1]\n",
      " [   0 1136    5    5    1    0    0    2    2    1]\n",
      " [   1    2  945    1    3    0    3    5    6    1]\n",
      " [   1    0   16  988    0    4    1    7    7   10]\n",
      " [   2    0    2    0  875    1    3    2    2   19]\n",
      " [   0    1    2   11    1  908    6    1    6    1]\n",
      " [   3    1    0    0    3    6  944    0    4    0]\n",
      " [   0    5   11    0    4    0    0 1026    2    7]\n",
      " [   1    6    5   10    2    5    4    5  925    6]\n",
      " [   5    5    0    8   13    2    1   10    7  985]]\n"
     ]
    }
   ],
   "source": [
    "# # Välj den bästa modellen\n",
    "# best_model = best_et\n",
    "\n",
    "# # Träna om modellen på all träningsdata\n",
    "# best_model.fit(X_train, y_train)\n",
    "\n",
    "# # Prediktera på testdatan\n",
    "# y_pred_final = best_model.predict(X_test)\n",
    "\n",
    "# # Utvärdera den slutliga modellen\n",
    "# print(\"Final Model Results:\")\n",
    "# print(classification_report(y_test, y_pred_final))\n",
    "# print(confusion_matrix(y_test, y_pred_final))\n",
    "\n",
    "# Använd VotingClassifier-resultaten\n",
    "y_pred_final = y_pred_voting\n",
    "\n",
    "# Utvärdera VotingClassifier-modellen\n",
    "print(\"Final Voting Classifier Results:\")\n",
    "print(classification_report(y_test, y_pred_final))\n",
    "print(confusion_matrix(y_test, y_pred_final))"
   ]
  },
  {
   "cell_type": "code",
   "execution_count": 25,
   "metadata": {},
   "outputs": [
    {
     "data": {
      "text/plain": [
       "['mnist_final_voting_classifier_v1.joblib']"
      ]
     },
     "execution_count": 25,
     "metadata": {},
     "output_type": "execute_result"
    }
   ],
   "source": [
    "# Spara VotingClassifier-modellen\n",
    "joblib.dump(voting_clf, 'mnist_final_voting_classifier_v1.joblib')"
   ]
  }
 ],
 "metadata": {
  "kernelspec": {
   "display_name": "base",
   "language": "python",
   "name": "python3"
  },
  "language_info": {
   "codemirror_mode": {
    "name": "ipython",
    "version": 3
   },
   "file_extension": ".py",
   "mimetype": "text/x-python",
   "name": "python",
   "nbconvert_exporter": "python",
   "pygments_lexer": "ipython3",
   "version": "3.12.3"
  }
 },
 "nbformat": 4,
 "nbformat_minor": 2
}
